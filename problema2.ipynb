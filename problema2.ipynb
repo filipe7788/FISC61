{
 "cells": [
  {
   "cell_type": "markdown",
   "id": "1fc47c29",
   "metadata": {},
   "source": [
    "# PROBLEMA 2\n",
    "\n",
    "**Resolver a Lei Fundamental da Dinâmica (LFD) no caso de um objeto de massa m = 1,0kg, submetido às forças peso e de arraste (proporcional à velocidade), num problema de dimensão 1. Consideremos o coeficiente é: α = 1,0 N/(m/s). Condição inicial: v(t₀) = v₀. Intervalo de tempo considerado: t ∈ [t₀, t₁] com t₀ = 0s, t₁ = 5,0s, e g = 9,8m/s²**\n",
    "\n",
    "A LFD conduz à seguinte equação:\n",
    "\n",
    "$$m\\frac{dv}{dt}(t) = mg - \\alpha v(t)$$\n",
    "\n",
    "A implementação do MDF conduz a uma relação iterativa que permite calcular a velocidade em função do tempo em pontos discretos do intervalo [t₀, t₁]:\n",
    "\n",
    "$$v_{j+1} = \\left(1 - \\frac{\\alpha}{m}\\delta t\\right)v_j + g\\delta t$$\n"
   ]
  },
  {
   "cell_type": "code",
   "execution_count": null,
   "id": "4ac8161c",
   "metadata": {},
   "outputs": [],
   "source": "# ETAPA 1: Definir parâmetros do problema\nusing Plots\n\nm = 1.0      # massa (kg)\nα = 1.0      # coeficiente de arraste (N/(m/s))\ng = 9.8      # gravidade (m/s²)\nt₀ = 0.0     # tempo inicial (s)\nt₁ = 5.0     # tempo final (s)\nv₀ = 0.0     # velocidade inicial (m/s)"
  },
  {
   "cell_type": "code",
   "execution_count": null,
   "id": "46b462d8",
   "metadata": {},
   "outputs": [],
   "source": "# ETAPA 2: Implementar método numérico (Diferenças Finitas)\n# Fórmula iterativa: v_{j+1} = (1 - α/m * dt) * v_j + g * dt\n\nfunction resolver_velocidade(dt)\n    # Criar vetor de tempo\n    t = t₀:dt:t₁\n    n = length(t)\n    v = zeros(n)\n    v[1] = v₀\n    \n    # Calcular velocidade em cada passo\n    for j in 1:(n-1)\n        v[j+1] = (1 - α/m * dt) * v[j] + g * dt\n    end\n    \n    return t, v\nend\n\n# Testar com diferentes passos de tempo\ndt_values = [0.1, 0.05, 0.01]\nresultados = [resolver_velocidade(dt) for dt in dt_values]"
  },
  {
   "cell_type": "code",
   "execution_count": null,
   "metadata": {},
   "outputs": [],
   "source": "# ETAPA 3: Calcular solução analítica (para comparação)\n# v(t) = (mg/α) * (1 - e^(-αt/m)) + v₀ * e^(-αt/m)\n\nfunction solucao_analitica(t)\n    v_terminal = m * g / α\n    return v_terminal * (1 - exp(-α * t / m)) + v₀ * exp(-α * t / m)\nend\n\nt_analitico = range(t₀, t₁, length=1000)\nv_analitico = solucao_analitica.(t_analitico)\nv_terminal = m * g / α  # Velocidade limite"
  },
  {
   "cell_type": "code",
   "execution_count": null,
   "id": "b5f0f6c3",
   "metadata": {},
   "outputs": [],
   "source": "# ETAPA 4: Plotar resultados\np = plot(size=(800, 600))\n\n# Soluções numéricas\ncores = [:blue, :green, :red]\nfor (i, dt) in enumerate(dt_values)\n    t, v = resultados[i]\n    plot!(p, t, v, marker=:o, markersize=3, color=cores[i], \n          label=\"Numérico (dt=$dt s)\")\nend\n\n# Solução analítica\nplot!(p, t_analitico, v_analitico, linewidth=3, color=:black, \n      label=\"Analítico\")\n\n# Velocidade terminal\nhline!(p, [v_terminal], linestyle=:dash, color=:orange, \n       label=\"v_terminal = $(v_terminal) m/s\")\n\nxlabel!(p, \"Tempo (s)\")\nylabel!(p, \"Velocidade (m/s)\")\ntitle!(p, \"Velocidade vs Tempo - Queda com Arraste\")"
  },
  {
   "cell_type": "code",
   "execution_count": null,
   "id": "0b26db0a",
   "metadata": {},
   "outputs": [],
   "source": "# ETAPA 5: Análise de erro\nprintln(\"Velocidade em t = $t₁ s:\")\nprintln(\"Analítico: $(round(solucao_analitica(t₁), digits=4)) m/s\\n\")\n\nfor (i, dt) in enumerate(dt_values)\n    t, v = resultados[i]\n    erro = abs(v[end] - solucao_analitica(t₁))\n    erro_percent = 100 * erro / solucao_analitica(t₁)\n    println(\"dt = $dt s: $(round(v[end], digits=4)) m/s (erro: $(round(erro_percent, digits=3))%)\")\nend"
  },
  {
   "cell_type": "markdown",
   "id": "6258bb91",
   "metadata": {},
   "source": [
    "## Resultados e Conclusões\n",
    "\n",
    "### Equação Diferencial Resolvida\n",
    "\n",
    "A equação fundamental da dinâmica para este problema é:\n",
    "\n",
    "$$m\\frac{dv}{dt} = mg - \\alpha v$$\n",
    "\n",
    "### Solução Analítica\n",
    "\n",
    "A resolução analítica desta equação diferencial de primeira ordem conduz à expressão:\n",
    "\n",
    "$$v(t) = \\frac{mg}{\\alpha}\\left(1 - e^{-\\frac{\\alpha t}{m}}\\right) + v_0 e^{-\\frac{\\alpha t}{m}}$$\n",
    "\n",
    "### Velocidade Terminal\n",
    "\n",
    "A velocidade limite (terminal) é obtida quando $\\frac{dv}{dt} = 0$:\n",
    "\n",
    "$$v_{limite} = \\frac{mg}{\\alpha} = \\frac{1.0 \\times 9.8}{1.0} = 9.8 \\text{ m/s}$$\n",
    "\n",
    "### Observações\n",
    "\n",
    "1. **Efeito da força de arraste**: A força de arraste proporcional à velocidade ($F_{arraste} = \\alpha v$) compensa gradualmente a força peso, levando o objeto a uma velocidade limite.\n",
    "\n",
    "2. **Convergência**: O objeto aproxima-se assintoticamente da velocidade terminal, nunca a atingindo completamente em tempo finito.\n",
    "\n",
    "3. **Precisão numérica**: O método das diferenças finitas (MDF) apresenta boa concordância com a solução analítica, especialmente para passos de tempo menores.\n",
    "\n",
    "4. **Estabilidade**: A relação iterativa é estável para os valores de $\\delta t$ utilizados, mantendo a convergência para a solução correta.\n"
   ]
  }
 ],
 "metadata": {
  "kernelspec": {
   "display_name": "Julia 1.10.2",
   "language": "julia",
   "name": "julia-1.10"
  },
  "language_info": {
   "file_extension": ".jl",
   "mimetype": "application/julia",
   "name": "julia",
   "version": "1.10.2"
  }
 },
 "nbformat": 4,
 "nbformat_minor": 5
}