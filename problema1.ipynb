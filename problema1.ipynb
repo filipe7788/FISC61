{
 "cells": [
  {
   "cell_type": "markdown",
   "metadata": {},
   "source": [
    "# PROBLEMA 1: Função com Derivada Numérica\n",
    "\n",
    "## Objetivo\n",
    "Implementar e plotar a função f(x) = c * (x^4 * sin(ax) * e^(-bx²)) / (1 + dx²) e calcular sua derivada usando diferenças finitas.\n",
    "\n",
    "## Parâmetros\n",
    "- a = 3.0\n",
    "- b = 2.0  \n",
    "- c = 10.0\n",
    "- d = 2.0\n",
    "- Intervalo: x ∈ [x₀, x₁]\n"
   ]
  },
  {
   "cell_type": "code",
   "execution_count": null,
   "metadata": {},
   "outputs": [],
   "source": "# ETAPA 1: Definir parâmetros\na = 3.0\nb = 2.0\nc = 10.0\nd = 2.0\nh = 1e-6  # Passo para derivada numérica\n\n# Intervalo de x\nx0 = -3\nx1 = 3"
  },
  {
   "cell_type": "code",
   "execution_count": null,
   "metadata": {},
   "outputs": [],
   "source": "# ETAPA 2: Definir a função f(x)\nfunction f(x)\n    return c * x^4 * sin(a*x) * exp(-b*x^2) / (1 + d*x^2)\nend"
  },
  {
   "cell_type": "code",
   "execution_count": null,
   "metadata": {},
   "outputs": [],
   "source": "# ETAPA 3: Calcular derivada usando diferenças finitas\n# f'(x) ≈ (f(x+h) - f(x)) / h\nfunction derivada(func, x, h)\n    return (func(x + h) - func(x)) / h\nend"
  },
  {
   "cell_type": "code",
   "execution_count": null,
   "metadata": {},
   "outputs": [],
   "source": "# ETAPA 4: Calcular valores da função e derivada\nx = range(x0, x1, length=1000)\ny = [f(xi) for xi in x]\ndy_dx = [derivada(f, xi, h) for xi in x]"
  },
  {
   "cell_type": "code",
   "execution_count": null,
   "metadata": {},
   "outputs": [],
   "source": "# ETAPA 5: Plotar os gráficos\nusing Plots\n\np1 = plot(x, y, label=\"f(x)\", linewidth=2, title=\"Função\", xlabel=\"x\", ylabel=\"f(x)\")\np2 = plot(x, dy_dx, label=\"f'(x)\", linewidth=2, color=:red, title=\"Derivada\", xlabel=\"x\", ylabel=\"f'(x)\")\n\nplot(p1, p2, layout=(2,1), size=(800, 600))"
  }
 ],
 "metadata": {
  "kernelspec": {
   "display_name": "Julia 1.10.2",
   "language": "julia",
   "name": "julia-1.10"
  },
  "language_info": {
   "file_extension": ".jl",
   "mimetype": "application/julia",
   "name": "julia",
   "version": "1.10.2"
  }
 },
 "nbformat": 4,
 "nbformat_minor": 2
}